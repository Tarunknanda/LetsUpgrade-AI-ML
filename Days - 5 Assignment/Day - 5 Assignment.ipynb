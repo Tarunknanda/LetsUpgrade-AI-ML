{
 "cells": [
  {
   "cell_type": "markdown",
   "metadata": {},
   "source": [
    "# Question - 1 :"
   ]
  },
  {
   "cell_type": "code",
   "execution_count": 1,
   "metadata": {},
   "outputs": [],
   "source": [
    "# Write a Python program to find the first 20 non-even prime natural numbers."
   ]
  },
  {
   "cell_type": "code",
   "execution_count": 2,
   "metadata": {},
   "outputs": [
    {
     "name": "stdout",
     "output_type": "stream",
     "text": [
      "First 20 non-even  Prime number between 1 to 100 are : \n",
      "\n",
      "3\n",
      "5\n",
      "7\n",
      "11\n",
      "13\n",
      "17\n",
      "19\n",
      "23\n",
      "29\n",
      "31\n",
      "37\n",
      "41\n",
      "43\n",
      "47\n",
      "53\n",
      "59\n",
      "61\n",
      "67\n",
      "71\n",
      "73\n"
     ]
    }
   ],
   "source": [
    "lower = 3\n",
    "upper =100\n",
    "k = 0\n",
    "print(\"First 20 non-even  Prime number between 1 to 100 are : \\n\")\n",
    "for num in range(lower,upper+1):\n",
    "    if num>1:\n",
    "        for i in range(2,num):\n",
    "            if k == 20:\n",
    "                break\n",
    "            else:\n",
    "                if (num % i)== 0:\n",
    "                    break\n",
    "        else:\n",
    "            print(num)\n",
    "            k = k+1\n",
    "            \n",
    "            \n",
    "        "
   ]
  },
  {
   "cell_type": "markdown",
   "metadata": {},
   "source": [
    "# Question - 2 :\n"
   ]
  },
  {
   "cell_type": "code",
   "execution_count": 3,
   "metadata": {},
   "outputs": [],
   "source": [
    "# Write a Python program to implement 15 functions of string."
   ]
  },
  {
   "cell_type": "code",
   "execution_count": 4,
   "metadata": {},
   "outputs": [
    {
     "name": "stdout",
     "output_type": "stream",
     "text": [
      " letsupgrade ai-ml course \n",
      " letsupgrade ai-ml course \n",
      "3\n",
      "False\n",
      " LETSUPGRADE AI-ML COURSE \n",
      " letsupgrade ai-ml course \n",
      "letsupgrade AI-ML course\n"
     ]
    }
   ],
   "source": [
    "s = ' letsupgrade AI-ML course '\n",
    "\n",
    "# Converts the first character to upper case\n",
    "\n",
    "print(s.capitalize())\n",
    "\n",
    "# Converts string into lower case\n",
    "\n",
    "print(s.casefold())\n",
    "\n",
    "# Returns the number of times a specified value occurs in a string\n",
    "\n",
    "print(s.count('e'))\n",
    "\n",
    "# Returns true if the string ends with the specified value otherwise it returns flase\n",
    "\n",
    "print(s.endswith('e'))\n",
    "\n",
    "# Converts a string into upper case\n",
    "\n",
    "print(s.upper())\n",
    "\n",
    "# convert a string into lower case using lower()\n",
    "\n",
    "print(s.lower())\n",
    "\n",
    "\n",
    "# Returns a trimmed version of the string , it remove space from the start and end of a string\n",
    "\n",
    "print(s.strip())\n"
   ]
  },
  {
   "cell_type": "code",
   "execution_count": 5,
   "metadata": {},
   "outputs": [
    {
     "name": "stdout",
     "output_type": "stream",
     "text": [
      " letsupgrade AI-ML course\n",
      " Letsupgrade Ai-Ml Course \n",
      " LETSUPGRADE ai-ml COURSE \n",
      "False\n",
      "False\n",
      "False\n",
      " Hetsupgrade AI-ML course \n",
      "['', 'letsupgrade', 'AI-ML', 'course', '']\n"
     ]
    }
   ],
   "source": [
    "# Remove space from right side of a string\n",
    "print(s.rstrip())\n",
    "\n",
    "# Converts the first character of each word to upper case\n",
    "print(s.title())\n",
    "\n",
    "# Swaps cases, lower case becomes upper case and vice versa\n",
    "print(s.swapcase())\n",
    "\n",
    "# Returns True if all characters in the string are lower case\n",
    "print(s.islower())\n",
    "\n",
    "# Returns True if all characters in the string are alphanumeric\n",
    "print(s.isalnum())\n",
    "\n",
    "# Returns True if all characters in the string are in the alphabet\n",
    "print(s.isalpha())\n",
    "\n",
    "# Returns a string where a specified value is replaced with a specified value\n",
    "print(s.replace('l','H'))\n",
    "\n",
    "\n",
    "# Splits the string at the specified separator, and returns a list\n",
    "print(s.split(' '))\n"
   ]
  },
  {
   "cell_type": "markdown",
   "metadata": {},
   "source": [
    "# Question - 3 :"
   ]
  },
  {
   "cell_type": "code",
   "execution_count": 6,
   "metadata": {},
   "outputs": [],
   "source": [
    "# Write a Python program to check if the given string is a Palindrome or Anagram or None of them.\n",
    "# Display the message accordingly to the user."
   ]
  },
  {
   "cell_type": "code",
   "execution_count": 7,
   "metadata": {},
   "outputs": [
    {
     "name": "stdout",
     "output_type": "stream",
     "text": [
      "Enter a string : level\n",
      "Enter another string : level\n",
      "It is Palindrome String\n"
     ]
    }
   ],
   "source": [
    "s = input(\"Enter a string : \")\n",
    "s2 = input(\"Enter another string : \")\n",
    "if s == s[::-1]:\n",
    "    print(\"It is Palindrome String\")\n",
    "elif sorted(s2) == sorted(s):\n",
    "    print(\"It is a Angram string\")\n",
    "else:\n",
    "    print(\"None of them\")"
   ]
  },
  {
   "cell_type": "markdown",
   "metadata": {},
   "source": [
    "# Question - 4"
   ]
  },
  {
   "cell_type": "code",
   "execution_count": 8,
   "metadata": {},
   "outputs": [],
   "source": [
    "# Write a Python's user defined function that removes all the additional characters from the string\n",
    "# and converts it finally to lower case using built-in lower(). eg: If the string is \"Dr. Darshan Ingle\n",
    "# @AI-ML Trainer\", then the output be \"drdarshaningleaimltrainer\""
   ]
  },
  {
   "cell_type": "code",
   "execution_count": 9,
   "metadata": {},
   "outputs": [
    {
     "name": "stdout",
     "output_type": "stream",
     "text": [
      "output is :  drdarshaningleaimltrainer\n"
     ]
    }
   ],
   "source": [
    "s = 'Dr. Darshan Ingle@AI-ML Trainer'\n",
    "s = s.replace(\".\",\"\").replace(\" \",\"\").replace(\"@\",'').replace('-','').lower()\n",
    "print(\"output is : \",s)"
   ]
  }
 ],
 "metadata": {
  "kernelspec": {
   "display_name": "Python 3",
   "language": "python",
   "name": "python3"
  },
  "language_info": {
   "codemirror_mode": {
    "name": "ipython",
    "version": 3
   },
   "file_extension": ".py",
   "mimetype": "text/x-python",
   "name": "python",
   "nbconvert_exporter": "python",
   "pygments_lexer": "ipython3",
   "version": "3.7.7"
  },
  "nbTranslate": {
   "displayLangs": [
    "*"
   ],
   "hotkey": "alt-t",
   "langInMainMenu": true,
   "sourceLang": "en",
   "targetLang": "fr",
   "useGoogleTranslate": true
  },
  "toc": {
   "base_numbering": 1,
   "nav_menu": {},
   "number_sections": true,
   "sideBar": true,
   "skip_h1_title": false,
   "title_cell": "Table of Contents",
   "title_sidebar": "Contents",
   "toc_cell": false,
   "toc_position": {},
   "toc_section_display": true,
   "toc_window_display": false
  }
 },
 "nbformat": 4,
 "nbformat_minor": 4
}
