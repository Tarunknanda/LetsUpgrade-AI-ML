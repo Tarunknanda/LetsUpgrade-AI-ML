{
 "cells": [
  {
   "cell_type": "markdown",
   "metadata": {},
   "source": [
    "# . Question :"
   ]
  },
  {
   "cell_type": "code",
   "execution_count": 1,
   "metadata": {},
   "outputs": [],
   "source": [
    "# Research on whether addition, subtraction, multiplication, division, floor division and modulo\n",
    "# operations be performed on complex numbers. Based on your study, implement a Python\n",
    "# program to demonstrate these operations.\n"
   ]
  },
  {
   "cell_type": "code",
   "execution_count": 2,
   "metadata": {},
   "outputs": [
    {
     "name": "stdout",
     "output_type": "stream",
     "text": [
      "Addition is :  (8+8j)\n",
      "Subtraction is :  (2+4j)\n",
      "Multiplication is :  (3+28j)\n",
      "Division is :  (2.076923076923077+0.6153846153846155j)\n"
     ]
    }
   ],
   "source": [
    "a = 5+6j\n",
    "b =  3+2j\n",
    "print(\"Addition is : \",a+b)\n",
    "print(\"Subtraction is : \",a-b)\n",
    "print(\"Multiplication is : \",a*b)\n",
    "print(\"Division is : \",a/b)\n",
    "\n"
   ]
  },
  {
   "cell_type": "code",
   "execution_count": 3,
   "metadata": {},
   "outputs": [
    {
     "ename": "TypeError",
     "evalue": "can't mod complex numbers.",
     "output_type": "error",
     "traceback": [
      "\u001b[1;31m---------------------------------------------------------------------------\u001b[0m",
      "\u001b[1;31mTypeError\u001b[0m                                 Traceback (most recent call last)",
      "\u001b[1;32m<ipython-input-3-d792ff8686ea>\u001b[0m in \u001b[0;36m<module>\u001b[1;34m\u001b[0m\n\u001b[1;32m----> 1\u001b[1;33m \u001b[0mprint\u001b[0m\u001b[1;33m(\u001b[0m\u001b[1;34m\"Modulo is : \"\u001b[0m\u001b[1;33m,\u001b[0m\u001b[0ma\u001b[0m\u001b[1;33m%\u001b[0m\u001b[0mb\u001b[0m\u001b[1;33m)\u001b[0m\u001b[1;33m\u001b[0m\u001b[1;33m\u001b[0m\u001b[0m\n\u001b[0m\u001b[0;32m      2\u001b[0m \u001b[0mprint\u001b[0m\u001b[1;33m(\u001b[0m\u001b[1;34m\"Floor Division is : \"\u001b[0m\u001b[1;33m,\u001b[0m\u001b[0ma\u001b[0m\u001b[1;33m//\u001b[0m\u001b[0mb\u001b[0m\u001b[1;33m)\u001b[0m\u001b[1;33m\u001b[0m\u001b[1;33m\u001b[0m\u001b[0m\n",
      "\u001b[1;31mTypeError\u001b[0m: can't mod complex numbers."
     ]
    }
   ],
   "source": [
    "print(\"Modulo is : \",a%b)\n",
    "print(\"Floor Division is : \",a//b)"
   ]
  },
  {
   "cell_type": "raw",
   "metadata": {},
   "source": [
    "We conclude that floor division and modulo operation can't be perform on complex Number,if it happens then TypeError will be display"
   ]
  },
  {
   "cell_type": "markdown",
   "metadata": {},
   "source": [
    "# . Question :"
   ]
  },
  {
   "cell_type": "code",
   "execution_count": null,
   "metadata": {},
   "outputs": [],
   "source": [
    "# Research on range() functions and its parameters. Create a markdown cell and write in your own\n",
    "# words (no copy-paste from google please) what you understand about it. Implement a small\n",
    "# program of your choice on the same."
   ]
  },
  {
   "cell_type": "markdown",
   "metadata": {},
   "source": [
    "range():\n",
    "\n",
    "range() is a built-in function of Python .\n",
    "range() is commonly used in for looping .\n",
    "User use this function when he/she knows , how much time for loop is running\n",
    "\n",
    "Syntax :\n",
    "\n",
    "range(start,stop,step)\n",
    "\n",
    "start : It is  An integer number specifying at which position to start. Default is 0 . \n",
    "stop : It is An integer number specifying at which position to stop (not included) . \n",
    "step : An integer number specifying the incrementation. Default is 1\n"
   ]
  },
  {
   "cell_type": "code",
   "execution_count": null,
   "metadata": {},
   "outputs": [],
   "source": [
    "# program based on range()\n",
    "# find odd and even number betwwen 1 to 20\n",
    "for i in range(1,21,1):\n",
    "    if (i % 2 == 0):\n",
    "        print(i ,\"is a Even Number\")\n",
    "    else:\n",
    "        print(i ,\"is a Odd Number\")"
   ]
  },
  {
   "cell_type": "markdown",
   "metadata": {},
   "source": [
    "# . Question :"
   ]
  },
  {
   "cell_type": "code",
   "execution_count": null,
   "metadata": {},
   "outputs": [],
   "source": [
    "# Consider two numbers. Perform their subtraction and if the result of subtraction is greater than 25,\n",
    "#  print their multiplication result else print their division result."
   ]
  },
  {
   "cell_type": "code",
   "execution_count": null,
   "metadata": {},
   "outputs": [],
   "source": [
    "a = 56\n",
    "b = 28\n",
    "if (a-b) > 25:\n",
    "    print(\"Multiplication is :\",a*b)\n",
    "else:\n",
    "    print(\"Division is :\",a/b)"
   ]
  },
  {
   "cell_type": "markdown",
   "metadata": {},
   "source": [
    "# . Question :\n"
   ]
  },
  {
   "cell_type": "code",
   "execution_count": 4,
   "metadata": {},
   "outputs": [],
   "source": [
    "# Consider a list of 10 elements of integer values. If the number in the list is divisible by 2, \n",
    "# print the result as \"square of that number minus 2\".\n"
   ]
  },
  {
   "cell_type": "code",
   "execution_count": 5,
   "metadata": {},
   "outputs": [
    {
     "name": "stdout",
     "output_type": "stream",
     "text": [
      "square of the  10  minus 2 is :  98\n",
      "square of the  26  minus 2 is :  674\n",
      "square of the  28  minus 2 is :  782\n",
      "square of the  16  minus 2 is :  254\n",
      "square of the  32  minus 2 is :  1022\n"
     ]
    }
   ],
   "source": [
    "l = [10,13,25,26,28,16,21,33,32,45]\n",
    "for i in l:\n",
    "    if i%2== 0 :\n",
    "        print(\"square of the \",i,\" minus 2 is : \",i**2 - 2 )\n",
    "    else:\n",
    "        pass"
   ]
  },
  {
   "cell_type": "markdown",
   "metadata": {},
   "source": [
    "# . Question : "
   ]
  },
  {
   "cell_type": "code",
   "execution_count": 6,
   "metadata": {},
   "outputs": [],
   "source": [
    "# Consider a list of 10 elements. Print all the elements in the list which are greater than 7 when that number is divided 2"
   ]
  },
  {
   "cell_type": "code",
   "execution_count": 7,
   "metadata": {},
   "outputs": [
    {
     "name": "stdout",
     "output_type": "stream",
     "text": [
      "The Number 8 is greater than 7 and divisible by 2\n",
      "The Number 12 is greater than 7 and divisible by 2\n",
      "The Number 24 is greater than 7 and divisible by 2\n",
      "The Number 16 is greater than 7 and divisible by 2\n"
     ]
    }
   ],
   "source": [
    "b = [4,7,8,9,12,2,5,24,16,17]\n",
    "\n",
    "for i in b:\n",
    "    if (i > 7) and (i%2==0):\n",
    "        print(\"The Number\",i,\"is greater than 7 and divisible by 2\")\n",
    "    else:\n",
    "        pass"
   ]
  },
  {
   "cell_type": "code",
   "execution_count": null,
   "metadata": {},
   "outputs": [],
   "source": []
  }
 ],
 "metadata": {
  "kernelspec": {
   "display_name": "Python 3",
   "language": "python",
   "name": "python3"
  },
  "language_info": {
   "codemirror_mode": {
    "name": "ipython",
    "version": 3
   },
   "file_extension": ".py",
   "mimetype": "text/x-python",
   "name": "python",
   "nbconvert_exporter": "python",
   "pygments_lexer": "ipython3",
   "version": "3.7.7"
  },
  "nbTranslate": {
   "displayLangs": [
    "*"
   ],
   "hotkey": "alt-t",
   "langInMainMenu": true,
   "sourceLang": "en",
   "targetLang": "fr",
   "useGoogleTranslate": true
  },
  "toc": {
   "base_numbering": 1,
   "nav_menu": {},
   "number_sections": true,
   "sideBar": true,
   "skip_h1_title": false,
   "title_cell": "Table of Contents",
   "title_sidebar": "Contents",
   "toc_cell": false,
   "toc_position": {},
   "toc_section_display": true,
   "toc_window_display": false
  }
 },
 "nbformat": 4,
 "nbformat_minor": 4
}
