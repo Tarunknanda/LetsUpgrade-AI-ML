{
 "cells": [
  {
   "cell_type": "markdown",
   "metadata": {},
   "source": [
    "# Question - 1"
   ]
  },
  {
   "cell_type": "code",
   "execution_count": 1,
   "metadata": {},
   "outputs": [],
   "source": [
    "# Write a Program To Sabstract Two Complex Number in Python"
   ]
  },
  {
   "cell_type": "code",
   "execution_count": 2,
   "metadata": {},
   "outputs": [
    {
     "name": "stdout",
     "output_type": "stream",
     "text": [
      "Substaction is :  (1+1j)\n"
     ]
    }
   ],
   "source": [
    "a = 5+6j\n",
    "b = 4+5j\n",
    "c = a -b\n",
    "print(\"Substaction is : \",c)"
   ]
  },
  {
   "cell_type": "markdown",
   "metadata": {},
   "source": [
    "# Question - 2"
   ]
  },
  {
   "cell_type": "code",
   "execution_count": 3,
   "metadata": {},
   "outputs": [],
   "source": [
    "# Write a Program To Find the Fourth root of a number"
   ]
  },
  {
   "cell_type": "code",
   "execution_count": 4,
   "metadata": {},
   "outputs": [
    {
     "name": "stdout",
     "output_type": "stream",
     "text": [
      "Enter a number : 3\n",
      "Fourth Root is :  1.3160740129524924\n"
     ]
    }
   ],
   "source": [
    "a = int(input(\"Enter a number : \"))\n",
    "print(\"Fourth Root is : \",a**0.25)"
   ]
  },
  {
   "cell_type": "markdown",
   "metadata": {},
   "source": [
    "# Question - 3"
   ]
  },
  {
   "cell_type": "code",
   "execution_count": 5,
   "metadata": {},
   "outputs": [],
   "source": [
    "# Write a Program to swap Two Numbers in Python With the help of a Temporary Variable"
   ]
  },
  {
   "cell_type": "code",
   "execution_count": 6,
   "metadata": {},
   "outputs": [
    {
     "name": "stdout",
     "output_type": "stream",
     "text": [
      "Enter First number : 3\n",
      "Enter Second number :2\n",
      "\n",
      "\n",
      "Before swap a value is :  3\n",
      "Before swap b value is :  2\n",
      "\n",
      "\n",
      "After swap a value is :  2\n",
      "After swap b value is :  3\n"
     ]
    }
   ],
   "source": [
    "a = int(input(\"Enter First number : \"))\n",
    "b = int(input(\"Enter Second number :\"))\n",
    "print('\\n')\n",
    "print (\"Before swap a value is : \",a)\n",
    "print (\"Before swap b value is : \",b)\n",
    "\n",
    "temp = a\n",
    "a = b\n",
    "b = temp\n",
    "print('\\n')\n",
    "print (\"After swap a value is : \",a)\n",
    "print (\"After swap b value is : \",b)"
   ]
  },
  {
   "cell_type": "markdown",
   "metadata": {},
   "source": [
    "# Question - 4"
   ]
  },
  {
   "cell_type": "code",
   "execution_count": 7,
   "metadata": {},
   "outputs": [],
   "source": [
    "# Write a Program to swap Two Numbers in Python Without the help of a Temporary Variable"
   ]
  },
  {
   "cell_type": "code",
   "execution_count": 8,
   "metadata": {},
   "outputs": [
    {
     "name": "stdout",
     "output_type": "stream",
     "text": [
      "Enter First number : 4\n",
      "Enter Second number :5\n",
      "\n",
      "\n",
      "Before swap a value is :  4\n",
      "Before swap b value is :  5\n",
      "\n",
      "\n",
      "After swap a value is :  5\n",
      "After swap b value is :  4\n"
     ]
    }
   ],
   "source": [
    "a = int(input(\"Enter First number : \"))\n",
    "b = int(input(\"Enter Second number :\"))\n",
    "print('\\n')\n",
    "print (\"Before swap a value is : \",a)\n",
    "print (\"Before swap b value is : \",b)\n",
    "\n",
    "a = a + b \n",
    "b = a - b \n",
    "a = a - b\n",
    "\n",
    "print('\\n')\n",
    "print (\"After swap a value is : \",a)\n",
    "print (\"After swap b value is : \",b)\n"
   ]
  },
  {
   "cell_type": "markdown",
   "metadata": {},
   "source": [
    "# Question - 5"
   ]
  },
  {
   "cell_type": "code",
   "execution_count": 9,
   "metadata": {},
   "outputs": [],
   "source": [
    "# Write a program to convert fahrenheit to kelvin and celsius both"
   ]
  },
  {
   "cell_type": "code",
   "execution_count": 10,
   "metadata": {},
   "outputs": [
    {
     "name": "stdout",
     "output_type": "stream",
     "text": [
      "Enter Temperature  in Fahrenhite : 100\n",
      "Temperature  in Kelvin :  311.27777777777777\n",
      "Temperature  in Celsius :  37.77777777777778\n"
     ]
    }
   ],
   "source": [
    "a = float(input(\"Enter Temperature  in Fahrenhite : \"))\n",
    "k = 273.5 + ((a - 32.0) * (5.0/9.0))\n",
    "c = (a-32)/1.8\n",
    "print(\"Temperature  in Kelvin : \",k)\n",
    "print(\"Temperature  in Celsius : \",c)"
   ]
  },
  {
   "cell_type": "markdown",
   "metadata": {},
   "source": [
    "# Question - 6"
   ]
  },
  {
   "cell_type": "code",
   "execution_count": 11,
   "metadata": {},
   "outputs": [],
   "source": [
    "# Write a program to demonstrate all the available data types in Python. Hint: Use type() function"
   ]
  },
  {
   "cell_type": "code",
   "execution_count": 12,
   "metadata": {},
   "outputs": [
    {
     "name": "stdout",
     "output_type": "stream",
     "text": [
      "Type Of a is :  <class 'int'>\n",
      "Type Of b is :  <class 'float'>\n",
      "Type Of c is :  <class 'complex'>\n",
      "Type Of d is :  <class 'str'>\n",
      "Type Of e is :  <class 'list'>\n",
      "Type Of f is :  <class 'tuple'>\n",
      "Type Of g is :  <class 'set'>\n",
      "Type Of i is :  <class 'dict'>\n"
     ]
    }
   ],
   "source": [
    "a = 5\n",
    "b = 3.9\n",
    "c = 5+7j\n",
    "d = \"lets Upgrade\"\n",
    "e = [1,2,3]\n",
    "f = (1,2,3)\n",
    "g = {1,2,3}\n",
    "i = {'a':1,'b':2}\n",
    "print(\"Type Of a is : \",type(a))\n",
    "print(\"Type Of b is : \",type(b))\n",
    "print(\"Type Of c is : \",type(c))\n",
    "print(\"Type Of d is : \",type(d))\n",
    "print(\"Type Of e is : \",type(e))\n",
    "print(\"Type Of f is : \",type(f))\n",
    "print(\"Type Of g is : \",type(g))\n",
    "print(\"Type Of i is : \",type(i))"
   ]
  },
  {
   "cell_type": "markdown",
   "metadata": {},
   "source": [
    "# Question - 7"
   ]
  },
  {
   "cell_type": "code",
   "execution_count": 13,
   "metadata": {},
   "outputs": [],
   "source": [
    "# Create a Markdown cell in jupyter and list the steps discussed in the session by Dr. Darshan\n",
    "# Ingle sir to create Github profile and upload Githubs Assignment link."
   ]
  },
  {
   "cell_type": "markdown",
   "metadata": {},
   "source": [
    "1. Create a Github public repo and name it LetsUpgrade AI/ML \n",
    "2. Upload the files/solution in the repo in day wise manner.  \n",
    "3. Copy the URL of the Folder of that day and paste in the Assignment Submission Form (Google Form) \n",
    "4. Make sure you are filling correct details in the Assignment Submission Form"
   ]
  },
  {
   "cell_type": "code",
   "execution_count": null,
   "metadata": {},
   "outputs": [],
   "source": []
  }
 ],
 "metadata": {
  "kernelspec": {
   "display_name": "Python 3",
   "language": "python",
   "name": "python3"
  },
  "language_info": {
   "codemirror_mode": {
    "name": "ipython",
    "version": 3
   },
   "file_extension": ".py",
   "mimetype": "text/x-python",
   "name": "python",
   "nbconvert_exporter": "python",
   "pygments_lexer": "ipython3",
   "version": "3.7.7"
  }
 },
 "nbformat": 4,
 "nbformat_minor": 4
}
